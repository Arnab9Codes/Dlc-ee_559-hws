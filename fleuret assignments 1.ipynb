{
 "cells": [
  {
   "cell_type": "code",
   "execution_count": 1,
   "metadata": {},
   "outputs": [],
   "source": [
    "import torch"
   ]
  },
  {
   "cell_type": "markdown",
   "metadata": {},
   "source": [
    "# Task 1"
   ]
  },
  {
   "cell_type": "code",
   "execution_count": 2,
   "metadata": {},
   "outputs": [
    {
     "data": {
      "text/plain": [
       "tensor([[1., 2., 1., 1., 1., 1., 2., 1., 1., 1., 1., 2., 1.],\n",
       "        [2., 2., 2., 2., 2., 2., 2., 2., 2., 2., 2., 2., 2.],\n",
       "        [1., 2., 1., 1., 1., 1., 2., 1., 1., 1., 1., 2., 1.],\n",
       "        [1., 2., 1., 3., 3., 1., 2., 1., 3., 3., 1., 2., 1.],\n",
       "        [1., 2., 1., 3., 3., 1., 2., 1., 3., 3., 1., 2., 1.],\n",
       "        [1., 2., 1., 1., 1., 1., 2., 1., 1., 1., 1., 2., 1.],\n",
       "        [2., 2., 2., 2., 2., 2., 2., 2., 2., 2., 2., 2., 2.],\n",
       "        [1., 2., 1., 1., 1., 1., 2., 1., 1., 1., 1., 2., 1.],\n",
       "        [1., 2., 1., 3., 3., 1., 2., 1., 3., 3., 1., 2., 1.],\n",
       "        [1., 2., 1., 3., 3., 1., 2., 1., 3., 3., 1., 2., 1.],\n",
       "        [1., 2., 1., 1., 1., 1., 2., 1., 1., 1., 1., 2., 1.],\n",
       "        [2., 2., 2., 2., 2., 2., 2., 2., 2., 2., 2., 2., 2.],\n",
       "        [1., 2., 1., 1., 1., 1., 2., 1., 1., 1., 1., 2., 1.]])"
      ]
     },
     "execution_count": 2,
     "metadata": {},
     "output_type": "execute_result"
    }
   ],
   "source": [
    "x=torch.full((13,13),1)\n",
    "twos_idx=[1,6,11]\n",
    "x[twos_idx,:]=2\n",
    "x[:,twos_idx]=2\n",
    "\n",
    "three_idx=[3,4,8,9]\n",
    "x[3,three_idx]=3\n",
    "x[4,three_idx]=3\n",
    "x[8,three_idx]=3\n",
    "x[9,three_idx]=3\n",
    "x"
   ]
  },
  {
   "cell_type": "markdown",
   "metadata": {},
   "source": [
    "# Task 2"
   ]
  },
  {
   "cell_type": "code",
   "execution_count": 3,
   "metadata": {},
   "outputs": [
    {
     "name": "stdout",
     "output_type": "stream",
     "text": [
      "torch.return_types.eig(\n",
      "eigenvalues=tensor([[20.0000,  0.0000],\n",
      "        [19.0000,  0.0000],\n",
      "        [ 1.0000,  0.0000],\n",
      "        [18.0000,  0.0000],\n",
      "        [ 2.0000,  0.0000],\n",
      "        [17.0000,  0.0000],\n",
      "        [16.0000,  0.0000],\n",
      "        [15.0000,  0.0000],\n",
      "        [ 3.0000,  0.0000],\n",
      "        [ 4.0000,  0.0000],\n",
      "        [14.0000,  0.0000],\n",
      "        [ 5.0000,  0.0000],\n",
      "        [ 6.0000,  0.0000],\n",
      "        [13.0000,  0.0000],\n",
      "        [ 7.0000,  0.0000],\n",
      "        [12.0000,  0.0000],\n",
      "        [11.0000,  0.0000],\n",
      "        [ 8.0000,  0.0000],\n",
      "        [10.0000,  0.0000],\n",
      "        [ 9.0000,  0.0000]]),\n",
      "eigenvectors=tensor([]))\n"
     ]
    }
   ],
   "source": [
    "M=torch.empty((20,20)).normal_()\n",
    "diag=torch.diag(torch.arange(start=1,end=21,step=1).float())\n",
    "Mi=torch.inverse(M)\n",
    "\n",
    "mat=Mi.mm(diag.mm(M))\n",
    "\n",
    "eig=torch.eig(mat)\n",
    "print(eig)"
   ]
  },
  {
   "cell_type": "code",
   "execution_count": 4,
   "metadata": {},
   "outputs": [
    {
     "data": {
      "text/plain": [
       "torch.Size([20, 2])"
      ]
     },
     "execution_count": 4,
     "metadata": {},
     "output_type": "execute_result"
    }
   ],
   "source": [
    "eig[0].shape"
   ]
  },
  {
   "cell_type": "markdown",
   "metadata": {},
   "source": [
    "# Task 3"
   ]
  },
  {
   "cell_type": "code",
   "execution_count": 5,
   "metadata": {},
   "outputs": [],
   "source": [
    "from time import perf_counter"
   ]
  },
  {
   "cell_type": "code",
   "execution_count": 6,
   "metadata": {},
   "outputs": [
    {
     "name": "stdout",
     "output_type": "stream",
     "text": [
      "time elapsed:  1.8641434209999996\n"
     ]
    }
   ],
   "source": [
    "a=torch.empty((5000,5000)).normal_()\n",
    "b=torch.empty((5000,5000)).normal_()\n",
    "\n",
    "t1=perf_counter()\n",
    "\n",
    "m=a.mm(b)\n",
    "\n",
    "t2=perf_counter()\n",
    "\n",
    "print('time elapsed: ',t2-t1)"
   ]
  },
  {
   "cell_type": "code",
   "execution_count": 7,
   "metadata": {},
   "outputs": [
    {
     "data": {
      "text/plain": [
       "True"
      ]
     },
     "execution_count": 7,
     "metadata": {},
     "output_type": "execute_result"
    }
   ],
   "source": [
    "torch.cuda.is_available()"
   ]
  },
  {
   "cell_type": "markdown",
   "metadata": {},
   "source": [
    "operations= $1.8641434209999996$ x$ 403$ x $10^9$"
   ]
  },
  {
   "cell_type": "markdown",
   "metadata": {},
   "source": [
    "# Task 4"
   ]
  },
  {
   "cell_type": "code",
   "execution_count": 8,
   "metadata": {},
   "outputs": [],
   "source": [
    "def mul_row(m):\n",
    "    t1=perf_counter()\n",
    "    \n",
    "    for i in range(0,m.shape[0]):\n",
    "        m[i,:]=m[i,:]*(i+1)\n",
    "    \n",
    "    t2=perf_counter()\n",
    "    \n",
    "    print('elapsed time: ', t2-t1)\n",
    "    \n",
    "    return m"
   ]
  },
  {
   "cell_type": "code",
   "execution_count": 9,
   "metadata": {},
   "outputs": [
    {
     "name": "stdout",
     "output_type": "stream",
     "text": [
      "elapsed time:  0.000997189999999648\n"
     ]
    },
    {
     "data": {
      "text/plain": [
       "tensor([[2., 2., 2., 2., 2., 2., 2., 2.],\n",
       "        [4., 4., 4., 4., 4., 4., 4., 4.],\n",
       "        [6., 6., 6., 6., 6., 6., 6., 6.],\n",
       "        [8., 8., 8., 8., 8., 8., 8., 8.]])"
      ]
     },
     "execution_count": 9,
     "metadata": {},
     "output_type": "execute_result"
    }
   ],
   "source": [
    "m=torch.full((4,8),2.0)\n",
    "mul_row(m)"
   ]
  },
  {
   "cell_type": "code",
   "execution_count": 10,
   "metadata": {},
   "outputs": [],
   "source": [
    "def mul_row_fast(m):\n",
    "    \n",
    "    multiplier=torch.arange(start=1, end=m.shape[0]+1,step=1).float()\n",
    "    multiplier=multiplier.view((multiplier.shape[0],1))\n",
    "    \n",
    "    t1=perf_counter()\n",
    "    \n",
    "    m=m.mul(multiplier)\n",
    "    \n",
    "    t2=perf_counter()\n",
    "    \n",
    "    print('elapsed time: ', t2-t1)\n",
    "    \n",
    "    return m"
   ]
  },
  {
   "cell_type": "code",
   "execution_count": 11,
   "metadata": {},
   "outputs": [
    {
     "name": "stdout",
     "output_type": "stream",
     "text": [
      "elapsed time:  3.511500000286105e-05\n"
     ]
    },
    {
     "data": {
      "text/plain": [
       "tensor([[2., 2., 2., 2., 2., 2., 2., 2.],\n",
       "        [4., 4., 4., 4., 4., 4., 4., 4.],\n",
       "        [6., 6., 6., 6., 6., 6., 6., 6.],\n",
       "        [8., 8., 8., 8., 8., 8., 8., 8.]])"
      ]
     },
     "execution_count": 11,
     "metadata": {},
     "output_type": "execute_result"
    }
   ],
   "source": [
    "m=torch.full((4,8),2.0)\n",
    "mul_row_fast(m)"
   ]
  },
  {
   "cell_type": "code",
   "execution_count": 12,
   "metadata": {},
   "outputs": [
    {
     "data": {
      "text/plain": [
       "28.397835680432873"
      ]
     },
     "execution_count": 12,
     "metadata": {},
     "output_type": "execute_result"
    }
   ],
   "source": [
    "0.000997189999999648/3.511500000286105e-05"
   ]
  },
  {
   "cell_type": "code",
   "execution_count": null,
   "metadata": {},
   "outputs": [],
   "source": []
  }
 ],
 "metadata": {
  "kernelspec": {
   "display_name": "Python 3",
   "language": "python",
   "name": "python3"
  },
  "language_info": {
   "codemirror_mode": {
    "name": "ipython",
    "version": 3
   },
   "file_extension": ".py",
   "mimetype": "text/x-python",
   "name": "python",
   "nbconvert_exporter": "python",
   "pygments_lexer": "ipython3",
   "version": "3.7.4"
  }
 },
 "nbformat": 4,
 "nbformat_minor": 2
}
